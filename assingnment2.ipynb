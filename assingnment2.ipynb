{
 "cells": [
  {
   "cell_type": "code",
   "execution_count": null,
   "id": "7dd5809e-fc98-48da-a197-bccec500f269",
   "metadata": {},
   "outputs": [],
   "source": [
    "Ques1.\n",
    "There are 2 types of comments in python.\n",
    "1.single line comment - To add a single-line comment, we can use the hash symbol (#)\n",
    "    # This is a single-line comment in Python\n",
    "2.multi line comment-To add multi line comment, we can use the triple quotes (''' or \"\"\") to enclose them\n",
    "\"\"\"This is a multi-line\n",
    "comment\"\"\""
   ]
  },
  {
   "cell_type": "code",
   "execution_count": null,
   "id": "99bbb747-8d23-4979-8fd8-19eaa8349125",
   "metadata": {},
   "outputs": [],
   "source": [
    "Ques2.\n",
    "In Python, variables are used to store data values.\n",
    "The equals sign (=) is used to assign the value to the variable.\n",
    "for example if we wants to declare a variable named age and assign the value 18"
   ]
  },
  {
   "cell_type": "code",
   "execution_count": 1,
   "id": "3be776cd-8bb1-49ea-ad37-7ef4f72ed635",
   "metadata": {},
   "outputs": [],
   "source": [
    "age =18"
   ]
  },
  {
   "cell_type": "code",
   "execution_count": 2,
   "id": "05686c75-7e70-4164-95e9-126e262ebb1c",
   "metadata": {},
   "outputs": [
    {
     "data": {
      "text/plain": [
       "18"
      ]
     },
     "execution_count": 2,
     "metadata": {},
     "output_type": "execute_result"
    }
   ],
   "source": [
    "age"
   ]
  },
  {
   "cell_type": "code",
   "execution_count": 3,
   "id": "3f140e47-f740-4f91-bf6c-37386b9ddd19",
   "metadata": {},
   "outputs": [],
   "source": [
    "#ques3\n",
    "x = 5\n",
    "y = float(x)   # Converts x to a float: 5.0\n",
    "z = str(x)     # Converts x to a string: \"5\""
   ]
  },
  {
   "cell_type": "code",
   "execution_count": 17,
   "id": "6296c6d6-1759-400f-85c9-3c138ff99c23",
   "metadata": {},
   "outputs": [],
   "source": [
    "#ques 4\n",
    "s1=\"\"\" this is my \n",
    "2nd assignment\"\"\"\n"
   ]
  },
  {
   "cell_type": "code",
   "execution_count": 18,
   "id": "62a1c632-fa47-4f54-9b8d-52134f2c5bb9",
   "metadata": {},
   "outputs": [
    {
     "data": {
      "text/plain": [
       "' this is my \\n2nd assignment'"
      ]
     },
     "execution_count": 18,
     "metadata": {},
     "output_type": "execute_result"
    }
   ],
   "source": [
    "s1"
   ]
  },
  {
   "cell_type": "code",
   "execution_count": 6,
   "id": "7be6499b-63d6-4750-82f0-807710997fd8",
   "metadata": {},
   "outputs": [
    {
     "data": {
      "text/plain": [
       "[2, 3]"
      ]
     },
     "execution_count": 6,
     "metadata": {},
     "output_type": "execute_result"
    }
   ],
   "source": [
    "#ques 5\n",
    "my_list = [1,2,3,4,5]\n",
    "my_list[1:3]"
   ]
  },
  {
   "cell_type": "code",
   "execution_count": null,
   "id": "c347f91e-accb-4885-93c1-856a43ee22fc",
   "metadata": {},
   "outputs": [],
   "source": [
    "#ques 6\n",
    "In mathematics, a complex number is a number that can be expressed in the form a + bi, where a and b \n",
    "are real numbers, and i is the imaginary unit.\n",
    "In Python, complex numbers are represented using the complex data type. The imaginary unit i is denoted\n",
    "by j in Python."
   ]
  },
  {
   "cell_type": "code",
   "execution_count": 7,
   "id": "b85aacde-68af-4544-ac3b-ba66f92069c3",
   "metadata": {},
   "outputs": [],
   "source": [
    "c= 5+8j"
   ]
  },
  {
   "cell_type": "code",
   "execution_count": 8,
   "id": "d0d73c82-acd4-46b4-82df-8037d0697713",
   "metadata": {},
   "outputs": [
    {
     "data": {
      "text/plain": [
       "complex"
      ]
     },
     "execution_count": 8,
     "metadata": {},
     "output_type": "execute_result"
    }
   ],
   "source": [
    "type(c)"
   ]
  },
  {
   "cell_type": "code",
   "execution_count": null,
   "id": "c5ef914e-0e0e-4ea6-bc66-1adcf7aa65e8",
   "metadata": {},
   "outputs": [],
   "source": [
    "#ques 7\n",
    "To declare a variable named age and assign the value 25 "
   ]
  },
  {
   "cell_type": "code",
   "execution_count": 9,
   "id": "a1d57176-aab8-4710-82cf-b7ba534403e8",
   "metadata": {},
   "outputs": [],
   "source": [
    "age = 25"
   ]
  },
  {
   "cell_type": "code",
   "execution_count": 10,
   "id": "7a072bfd-d836-4e42-82f1-6baeb2c5b04a",
   "metadata": {},
   "outputs": [
    {
     "data": {
      "text/plain": [
       "25"
      ]
     },
     "execution_count": 10,
     "metadata": {},
     "output_type": "execute_result"
    }
   ],
   "source": [
    "age"
   ]
  },
  {
   "cell_type": "code",
   "execution_count": 11,
   "id": "9e831a12-db9d-47ee-96f7-7d0480f7fb8b",
   "metadata": {},
   "outputs": [
    {
     "data": {
      "text/plain": [
       "float"
      ]
     },
     "execution_count": 11,
     "metadata": {},
     "output_type": "execute_result"
    }
   ],
   "source": [
    "#ques 8 \n",
    "price=9.99\n",
    "#this belongs to float data type\n",
    "type(price)"
   ]
  },
  {
   "cell_type": "code",
   "execution_count": 12,
   "id": "6d82ece7-b63f-4b97-a407-3a251dae24dc",
   "metadata": {},
   "outputs": [],
   "source": [
    "#ques 9\n",
    "name= \"kritika Bhadoria\""
   ]
  },
  {
   "cell_type": "code",
   "execution_count": 13,
   "id": "395196c5-bc23-4b74-90cc-38262e75b829",
   "metadata": {},
   "outputs": [
    {
     "data": {
      "text/plain": [
       "'kritika Bhadoria'"
      ]
     },
     "execution_count": 13,
     "metadata": {},
     "output_type": "execute_result"
    }
   ],
   "source": [
    "name"
   ]
  },
  {
   "cell_type": "code",
   "execution_count": 16,
   "id": "e6cc83bc-7ddd-42b4-b123-6f1f797b871b",
   "metadata": {},
   "outputs": [
    {
     "data": {
      "text/plain": [
       "'World'"
      ]
     },
     "execution_count": 16,
     "metadata": {},
     "output_type": "execute_result"
    }
   ],
   "source": [
    "#ques 10\n",
    "s= \"Hello, World!\"\n",
    "s[7:12:1]"
   ]
  },
  {
   "cell_type": "code",
   "execution_count": null,
   "id": "d3928500-0546-4f22-9a54-c80dc7b025eb",
   "metadata": {},
   "outputs": [],
   "source": [
    "#ques 11\n",
    "is_student = True #if you are currently a student \n",
    "is_student = False #if you are currently not a student "
   ]
  }
 ],
 "metadata": {
  "kernelspec": {
   "display_name": "Python 3 (ipykernel)",
   "language": "python",
   "name": "python3"
  },
  "language_info": {
   "codemirror_mode": {
    "name": "ipython",
    "version": 3
   },
   "file_extension": ".py",
   "mimetype": "text/x-python",
   "name": "python",
   "nbconvert_exporter": "python",
   "pygments_lexer": "ipython3",
   "version": "3.10.8"
  }
 },
 "nbformat": 4,
 "nbformat_minor": 5
}
